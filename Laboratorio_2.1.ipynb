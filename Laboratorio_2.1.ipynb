{
 "cells": [
  {
   "cell_type": "markdown",
   "metadata": {
    "id": "p_XcuC2rXQWb",
    "pycharm": {}
   },
   "source": [
    "# Laboratorio 2.1: Clasificación\n",
    "\n",
    "Felipe Bravo, Hernán Sarmiento, Gabriel Iturra, María José Zambrano\n",
    "\n",
    "Abril 2023\n"
   ]
  },
  {
   "cell_type": "markdown",
   "metadata": {
    "id": "gP6bki0CIMtj"
   },
   "source": [
    "## Nombres\n",
    "\n",
    "* \n",
    "* "
   ]
  },
  {
   "cell_type": "markdown",
   "metadata": {
    "id": "SMUzxXj7XQWi",
    "pycharm": {}
   },
   "source": [
    "## Instrucciones\n",
    "\n",
    "1. Trabajen en equipos de dos personas. Salvo excepciones, no se corregirá entregas con menos de dos integrantes.\n",
    "\n",
    "2. Modifique este archivo `.ipynb` agregando sus respuestas donde corresponda.\n",
    "\n",
    "3. El formato de entrega para esta actividad es un archivo **html**. Genere un archivo HTML usando jupyter (ver tutorial 2) y súbalo a U-Cursos. Basta con que **uno de los integrantes haga la entrega**. Si ambos hacen una entrega en U-Cursos, se revisará cualquiera de éstas.\n"
   ]
  },
  {
   "cell_type": "markdown",
   "metadata": {
    "id": "c6j3A35YGh-n"
   },
   "source": [
    "## Estructura del laboratorio\n",
    "\n",
    "Este laboratorio está conformado por preguntas teóricas de temas vistos en clases y preguntas prácticas (donde se requiere completar código) intercaladas con preguntas de interpretación de resultados y análisis. "
   ]
  },
  {
   "cell_type": "markdown",
   "metadata": {
    "id": "N-CWdlDoGh-o"
   },
   "source": [
    "## Teoría\n"
   ]
  },
  {
   "cell_type": "markdown",
   "metadata": {
    "id": "hITZyn7xGh-p"
   },
   "source": [
    "### Pregunta 1\n",
    "\n",
    "Verdadero o Falso (si la afirmación es falsa justifique):\n",
    "\n",
    "1. Si se quieren predecir las clases en un dataset que está desbalanceado es útil aplicar técnicas de subsampling u oversampling sobre todo el conjunto de datos.\n",
    "\n",
    "**Respuesta:**\n",
    "\n",
    "2. La división del dataset en un conjunto de train y en otro de testing permite la generalización de los resultados del modelo.\n",
    "\n",
    "**Respuesta:**\n",
    "\n",
    "3. La clasificación es un método de aprendizaje supervisado porque en la construcción de los modelos se deben configurar hiperparámetros.\n",
    "\n",
    "**Respuesta:**\n"
   ]
  },
  {
   "cell_type": "markdown",
   "metadata": {
    "id": "NKZg9pEFXQWj",
    "pycharm": {}
   },
   "source": [
    "## Parte práctica\n"
   ]
  },
  {
   "cell_type": "markdown",
   "metadata": {
    "id": "wjW5R_p5XQWj",
    "pycharm": {}
   },
   "source": [
    "A continuación vamos a cargar un dataset con noticias, el cual se puede encontrar en: https://www.kaggle.com/datasets/kevinmorgado/spanish-news-classification.\n",
    "\n",
    "Los atributos que posee son:\n",
    "\n",
    "- URL : El link a la noticia\n",
    "- News: El texto de la noticia\n",
    "- Type: La clasificación de la noticia\n",
    "\n",
    "\n",
    "Para el laboratorio solo nos importan las columnas News y Type.\n"
   ]
  },
  {
   "cell_type": "code",
   "execution_count": 11,
   "metadata": {
    "colab": {
     "base_uri": "https://localhost:8080/",
     "height": 206
    },
    "executionInfo": {
     "elapsed": 954,
     "status": "ok",
     "timestamp": 1664549367081,
     "user": {
      "displayName": "Jorge Ortiz",
      "userId": "08610426664914978408"
     },
     "user_tz": 180
    },
    "id": "JKE1Os_xGh-r",
    "outputId": "266c9005-eb1f-45fe-b2d7-6adcc124a20f"
   },
   "outputs": [
    {
     "data": {
      "text/html": [
       "<div>\n",
       "<style scoped>\n",
       "    .dataframe tbody tr th:only-of-type {\n",
       "        vertical-align: middle;\n",
       "    }\n",
       "\n",
       "    .dataframe tbody tr th {\n",
       "        vertical-align: top;\n",
       "    }\n",
       "\n",
       "    .dataframe thead th {\n",
       "        text-align: right;\n",
       "    }\n",
       "</style>\n",
       "<table border=\"1\" class=\"dataframe\">\n",
       "  <thead>\n",
       "    <tr style=\"text-align: right;\">\n",
       "      <th></th>\n",
       "      <th>Noticia</th>\n",
       "      <th>Clasificación</th>\n",
       "    </tr>\n",
       "  </thead>\n",
       "  <tbody>\n",
       "    <tr>\n",
       "      <th>0</th>\n",
       "      <td>Durante el foro La banca articulador empresari...</td>\n",
       "      <td>Otra</td>\n",
       "    </tr>\n",
       "    <tr>\n",
       "      <th>1</th>\n",
       "      <td>El regulador de valores de China dijo el domin...</td>\n",
       "      <td>Regulaciones</td>\n",
       "    </tr>\n",
       "    <tr>\n",
       "      <th>2</th>\n",
       "      <td>En una industria históricamente masculina como...</td>\n",
       "      <td>Alianzas</td>\n",
       "    </tr>\n",
       "    <tr>\n",
       "      <th>3</th>\n",
       "      <td>Con el dato de marzo el IPC interanual encaden...</td>\n",
       "      <td>Macroeconomia</td>\n",
       "    </tr>\n",
       "    <tr>\n",
       "      <th>4</th>\n",
       "      <td>Ayer en Cartagena se dio inicio a la versión n...</td>\n",
       "      <td>Otra</td>\n",
       "    </tr>\n",
       "  </tbody>\n",
       "</table>\n",
       "</div>"
      ],
      "text/plain": [
       "                                             Noticia  Clasificación\n",
       "0  Durante el foro La banca articulador empresari...           Otra\n",
       "1  El regulador de valores de China dijo el domin...   Regulaciones\n",
       "2  En una industria históricamente masculina como...       Alianzas\n",
       "3  Con el dato de marzo el IPC interanual encaden...  Macroeconomia\n",
       "4  Ayer en Cartagena se dio inicio a la versión n...           Otra"
      ]
     },
     "execution_count": 11,
     "metadata": {},
     "output_type": "execute_result"
    }
   ],
   "source": [
    "import pandas as pd\n",
    "df = pd.read_csv(\"https://raw.githubusercontent.com/mzambrano1/Datasets-CC5205-otono-2023/master/lab2.1/noticias.csv\")\n",
    "df = df[[\"news\", \"Type\"]]\n",
    "df = df.rename(columns={\n",
    "    'news': 'Noticia', 'Type':'Clasificación'})\n",
    "df.head()\n"
   ]
  },
  {
   "cell_type": "markdown",
   "metadata": {
    "id": "1kGPQ02MGMJn"
   },
   "source": [
    "A continuación preprocesaremos los textos y los convertiremos en vectores. Esto con el propósito de tener información numérica que pueda ser interpretable por los modelos que crearemos después.\n"
   ]
  },
  {
   "cell_type": "code",
   "execution_count": 34,
   "metadata": {
    "colab": {
     "base_uri": "https://localhost:8080/",
     "height": 280
    },
    "executionInfo": {
     "elapsed": 9411,
     "status": "ok",
     "timestamp": 1664556676497,
     "user": {
      "displayName": "Jorge Ortiz",
      "userId": "08610426664914978408"
     },
     "user_tz": 180
    },
    "id": "K42xBf4zGMJo",
    "outputId": "d5d9c375-bc9b-4b41-ebc5-82996edc7f08"
   },
   "outputs": [
    {
     "data": {
      "text/html": [
       "<div>\n",
       "<style scoped>\n",
       "    .dataframe tbody tr th:only-of-type {\n",
       "        vertical-align: middle;\n",
       "    }\n",
       "\n",
       "    .dataframe tbody tr th {\n",
       "        vertical-align: top;\n",
       "    }\n",
       "\n",
       "    .dataframe thead th {\n",
       "        text-align: right;\n",
       "    }\n",
       "</style>\n",
       "<table border=\"1\" class=\"dataframe\">\n",
       "  <thead>\n",
       "    <tr style=\"text-align: right;\">\n",
       "      <th></th>\n",
       "      <th>Clasificación</th>\n",
       "      <th>aa</th>\n",
       "      <th>aaa</th>\n",
       "      <th>abacum</th>\n",
       "      <th>abajo</th>\n",
       "      <th>abandonar</th>\n",
       "      <th>abandono</th>\n",
       "      <th>abanico</th>\n",
       "      <th>abaratamiento</th>\n",
       "      <th>abaratar</th>\n",
       "      <th>...</th>\n",
       "      <th>zero</th>\n",
       "      <th>zhao</th>\n",
       "      <th>zijin</th>\n",
       "      <th>zmvm</th>\n",
       "      <th>zona</th>\n",
       "      <th>zonas</th>\n",
       "      <th>zuckerberg</th>\n",
       "      <th>zug</th>\n",
       "      <th>zuluaga</th>\n",
       "      <th>zurich</th>\n",
       "    </tr>\n",
       "  </thead>\n",
       "  <tbody>\n",
       "    <tr>\n",
       "      <th>0</th>\n",
       "      <td>Otra</td>\n",
       "      <td>0</td>\n",
       "      <td>0</td>\n",
       "      <td>0</td>\n",
       "      <td>0</td>\n",
       "      <td>0</td>\n",
       "      <td>0</td>\n",
       "      <td>0</td>\n",
       "      <td>0</td>\n",
       "      <td>0</td>\n",
       "      <td>...</td>\n",
       "      <td>0</td>\n",
       "      <td>0</td>\n",
       "      <td>0</td>\n",
       "      <td>0</td>\n",
       "      <td>0</td>\n",
       "      <td>0</td>\n",
       "      <td>0</td>\n",
       "      <td>0</td>\n",
       "      <td>0</td>\n",
       "      <td>0</td>\n",
       "    </tr>\n",
       "    <tr>\n",
       "      <th>1</th>\n",
       "      <td>Regulaciones</td>\n",
       "      <td>0</td>\n",
       "      <td>0</td>\n",
       "      <td>0</td>\n",
       "      <td>0</td>\n",
       "      <td>0</td>\n",
       "      <td>0</td>\n",
       "      <td>0</td>\n",
       "      <td>0</td>\n",
       "      <td>0</td>\n",
       "      <td>...</td>\n",
       "      <td>0</td>\n",
       "      <td>0</td>\n",
       "      <td>0</td>\n",
       "      <td>0</td>\n",
       "      <td>0</td>\n",
       "      <td>0</td>\n",
       "      <td>0</td>\n",
       "      <td>0</td>\n",
       "      <td>0</td>\n",
       "      <td>0</td>\n",
       "    </tr>\n",
       "    <tr>\n",
       "      <th>2</th>\n",
       "      <td>Alianzas</td>\n",
       "      <td>0</td>\n",
       "      <td>0</td>\n",
       "      <td>0</td>\n",
       "      <td>0</td>\n",
       "      <td>0</td>\n",
       "      <td>0</td>\n",
       "      <td>0</td>\n",
       "      <td>0</td>\n",
       "      <td>0</td>\n",
       "      <td>...</td>\n",
       "      <td>0</td>\n",
       "      <td>0</td>\n",
       "      <td>0</td>\n",
       "      <td>0</td>\n",
       "      <td>0</td>\n",
       "      <td>0</td>\n",
       "      <td>0</td>\n",
       "      <td>0</td>\n",
       "      <td>0</td>\n",
       "      <td>0</td>\n",
       "    </tr>\n",
       "    <tr>\n",
       "      <th>3</th>\n",
       "      <td>Macroeconomia</td>\n",
       "      <td>0</td>\n",
       "      <td>0</td>\n",
       "      <td>0</td>\n",
       "      <td>0</td>\n",
       "      <td>0</td>\n",
       "      <td>0</td>\n",
       "      <td>0</td>\n",
       "      <td>0</td>\n",
       "      <td>0</td>\n",
       "      <td>...</td>\n",
       "      <td>0</td>\n",
       "      <td>0</td>\n",
       "      <td>0</td>\n",
       "      <td>0</td>\n",
       "      <td>0</td>\n",
       "      <td>0</td>\n",
       "      <td>0</td>\n",
       "      <td>0</td>\n",
       "      <td>0</td>\n",
       "      <td>0</td>\n",
       "    </tr>\n",
       "    <tr>\n",
       "      <th>4</th>\n",
       "      <td>Otra</td>\n",
       "      <td>0</td>\n",
       "      <td>0</td>\n",
       "      <td>0</td>\n",
       "      <td>0</td>\n",
       "      <td>0</td>\n",
       "      <td>0</td>\n",
       "      <td>0</td>\n",
       "      <td>0</td>\n",
       "      <td>0</td>\n",
       "      <td>...</td>\n",
       "      <td>0</td>\n",
       "      <td>0</td>\n",
       "      <td>0</td>\n",
       "      <td>0</td>\n",
       "      <td>0</td>\n",
       "      <td>0</td>\n",
       "      <td>0</td>\n",
       "      <td>0</td>\n",
       "      <td>0</td>\n",
       "      <td>0</td>\n",
       "    </tr>\n",
       "  </tbody>\n",
       "</table>\n",
       "<p>5 rows × 14407 columns</p>\n",
       "</div>"
      ],
      "text/plain": [
       "   Clasificación  aa  aaa  abacum  abajo  abandonar  abandono  abanico  \\\n",
       "0           Otra   0    0       0      0          0         0        0   \n",
       "1   Regulaciones   0    0       0      0          0         0        0   \n",
       "2       Alianzas   0    0       0      0          0         0        0   \n",
       "3  Macroeconomia   0    0       0      0          0         0        0   \n",
       "4           Otra   0    0       0      0          0         0        0   \n",
       "\n",
       "   abaratamiento  abaratar  ...  zero  zhao  zijin  zmvm  zona  zonas  \\\n",
       "0              0         0  ...     0     0      0     0     0      0   \n",
       "1              0         0  ...     0     0      0     0     0      0   \n",
       "2              0         0  ...     0     0      0     0     0      0   \n",
       "3              0         0  ...     0     0      0     0     0      0   \n",
       "4              0         0  ...     0     0      0     0     0      0   \n",
       "\n",
       "   zuckerberg  zug  zuluaga  zurich  \n",
       "0           0    0        0       0  \n",
       "1           0    0        0       0  \n",
       "2           0    0        0       0  \n",
       "3           0    0        0       0  \n",
       "4           0    0        0       0  \n",
       "\n",
       "[5 rows x 14407 columns]"
      ]
     },
     "execution_count": 34,
     "metadata": {},
     "output_type": "execute_result"
    }
   ],
   "source": [
    "import requests\n",
    "import re\n",
    "import string\n",
    "from sklearn.feature_extraction.text import CountVectorizer\n",
    "\n",
    "def remove_numbers(text):\n",
    "    text = re.sub(r\"[0-9]\", \" \", text)\n",
    "    return \" \".join(text.split())\n",
    "\n",
    "\n",
    "def remove_unprintable_(text):\n",
    "    printable = set(string.printable + \"ñáéíóúü\" + \"ÑÁÉÍÓÚÜ\")\n",
    "    text = \"\".join(filter(lambda x: x in printable, text))\n",
    "    return text\n",
    "\n",
    "def remove_punctuation(text):\n",
    "    pattern = re.compile(r\"[^\\w\\sáéíóúüñÁÉÍÓÚÜÑ]\")\n",
    "    t = pattern.sub(r\" \", text)\n",
    "    return re.sub(\" +\", \" \", t)\n",
    "\n",
    "\n",
    "def reduce_spam(text):\n",
    "    text = re.sub(r\"(\\w+)(\\s+\\1){2,}\", r\"\\1\", text)\n",
    "    text = re.sub(r\"(\\w+\\s+\\w+)(\\s+\\1){2,}\", r\"\\1\", text)\n",
    "    return text\n",
    "\n",
    "\n",
    "def remove_vowels_accents(text):\n",
    "    return (\n",
    "        text.replace(\"á\", \"a\")\n",
    "        .replace(\"é\", \"e\")\n",
    "        .replace(\"í\", \"i\")\n",
    "        .replace(\"ó\", \"o\")\n",
    "        .replace(\"ú\", \"u\")\n",
    "        .replace(\"ü\", \"u\")\n",
    "    )\n",
    "\n",
    "def remove_stopwords(text, stopwords_list):\n",
    "    return \" \".join(\n",
    "        [word for word in str(text).split() if word not in stopwords_list]\n",
    "    )\n",
    "\n",
    "url = \"https://raw.githubusercontent.com/Alir3z4/stop-words/master/spanish.txt\"\n",
    "r = requests.get(url)\n",
    "\n",
    "stopwords_list = r.text.splitlines()\n",
    "\n",
    "def preprocesar(text):\n",
    "    text = text.lower()\n",
    "    text = remove_numbers(text)\n",
    "    text = remove_unprintable_(text)\n",
    "    text = remove_punctuation(text)\n",
    "    text = reduce_spam(text)\n",
    "    text = remove_stopwords(text, stopwords_list)\n",
    "    text = remove_vowels_accents(text)\n",
    "    return text.strip()\n",
    "\n",
    "\n",
    "# Extraer los vectores\n",
    "vectorizer = CountVectorizer(preprocessor=preprocesar, min_df=2)\n",
    "vectors = vectorizer.fit_transform(df[\"Noticia\"])\n",
    "\n",
    "# Incorporar los vectores como dataframe\n",
    "X = pd.DataFrame(vectors.toarray(), columns=vectorizer.get_feature_names_out())\n",
    "y = df[\"Clasificación\"]\n",
    "\n",
    "df_vectorizado = pd.concat([y, X], axis=1)\n",
    "df_vectorizado.head()\n"
   ]
  },
  {
   "cell_type": "markdown",
   "metadata": {
    "id": "B3b92IPxXQWn",
    "pycharm": {}
   },
   "source": [
    "### Pregunta 3\n",
    "\n",
    "Cargue los datos e indique lo siguiente:\n",
    "\n",
    "- Tamaño del dataset vectorizado (cantidad de instancias y atributos).\n",
    "- ¿Cuántas clases hay en la columna \"Clasificación\" y cuáles son sus nombres?\n",
    "- ¿Cuántas instancias hay en cada clase?\n",
    "\n",
    "Indique en cada caso cómo obtuvo la respuesta, es decir, adjunte código.\n"
   ]
  },
  {
   "cell_type": "markdown",
   "metadata": {},
   "source": [
    "### Respuestas:  \n",
    "\n",
    "**Tamaño del dataset:** 1217 instancias y 14407 atributos  \n",
    "  \n",
    "**Clases de columna Clasificación:** Hay 7 instancias en la columna Clasificación, son: 'Otra', 'Regulaciones', 'Alianzas', 'Macroeconomia', 'Innovacion',\n",
    " 'Sostenibilidad', 'Reputacion'. \n",
    "   \n",
    "**Instancias por Clase:**\n",
    "\n",
    "- Alianzas          247  \n",
    "- Innovacion        195  \n",
    "- Macroeconomia     340  \n",
    "- Otra              130  \n",
    "- Regulaciones      142  \n",
    "- Reputacion         26  \n",
    "- Sostenibilidad    137  "
   ]
  },
  {
   "cell_type": "code",
   "execution_count": 51,
   "metadata": {
    "id": "8VRnfj7LGMJo"
   },
   "outputs": [
    {
     "name": "stdout",
     "output_type": "stream",
     "text": [
      "(1217, 14407)\n",
      "7\n",
      "['Otra' 'Regulaciones' 'Alianzas' 'Macroeconomia' 'Innovacion'\n",
      " 'Sostenibilidad' 'Reputacion']\n",
      "Clasificación\n",
      "Alianzas          247\n",
      "Innovacion        195\n",
      "Macroeconomia     340\n",
      "Otra              130\n",
      "Regulaciones      142\n",
      "Reputacion         26\n",
      "Sostenibilidad    137\n",
      "Name: Clasificación, dtype: int64\n"
     ]
    }
   ],
   "source": [
    "# Dimensiones dataset\n",
    "print(df_vectorizado.shape)\n",
    "\n",
    "# Clases columna Clasificación\n",
    "clases = df_vectorizado[\"Clasificación\"].unique()\n",
    "print(len(clases))\n",
    "print(clases)\n",
    "\n",
    "\n",
    "# Instancias por clase\n",
    "print(df_vectorizado.groupby([\"Clasificación\"])[\"Clasificación\"].count())\n",
    "    "
   ]
  },
  {
   "cell_type": "markdown",
   "metadata": {
    "id": "JXcHtXFUXQW1",
    "pycharm": {}
   },
   "source": [
    "### Pregunta 4\n"
   ]
  },
  {
   "cell_type": "markdown",
   "metadata": {
    "id": "651JYu7VXQW2",
    "pycharm": {}
   },
   "source": [
    "En esta parte useremos el clasificador **Decision Tree**. Veremos distintas formas de usarlo, y vamos a compararlas utilizando diversas métricas.\n"
   ]
  },
  {
   "cell_type": "markdown",
   "metadata": {
    "id": "6HRB6oDBXQW3",
    "pycharm": {}
   },
   "source": [
    "Usando el siguiente código, entrenaremos un clasificador con los datos cargados (X, y) y haremos una predicción sobre los mismos datos empleando dicho clasificador entrenado. Luego, se mostrarán las métricas de **accuracy**, **precision**, **recall** y **f1-score**.\n"
   ]
  },
  {
   "cell_type": "code",
   "execution_count": 53,
   "metadata": {
    "ExecuteTime": {
     "end_time": "2020-09-28T01:11:33.665446Z",
     "start_time": "2020-09-28T01:11:33.559713Z"
    },
    "colab": {
     "base_uri": "https://localhost:8080/"
    },
    "executionInfo": {
     "elapsed": 307,
     "status": "ok",
     "timestamp": 1664549371631,
     "user": {
      "displayName": "Jorge Ortiz",
      "userId": "08610426664914978408"
     },
     "user_tz": 180
    },
    "id": "TIKF6nyJXQW3",
    "outputId": "f24ed812-8a7a-44f7-f87e-80da86d88c84",
    "pycharm": {}
   },
   "outputs": [
    {
     "name": "stdout",
     "output_type": "stream",
     "text": [
      "Accuracy: 0.9967132292522597\n",
      "                precision    recall  f1-score   support\n",
      "\n",
      "      Alianzas       0.99      1.00      0.99       247\n",
      "    Innovacion       1.00      1.00      1.00       195\n",
      " Macroeconomia       1.00      1.00      1.00       340\n",
      "          Otra       1.00      0.98      0.99       130\n",
      "  Regulaciones       1.00      0.99      1.00       142\n",
      "    Reputacion       1.00      1.00      1.00        26\n",
      "Sostenibilidad       1.00      0.99      1.00       137\n",
      "\n",
      "      accuracy                           1.00      1217\n",
      "     macro avg       1.00      1.00      1.00      1217\n",
      "  weighted avg       1.00      1.00      1.00      1217\n",
      "\n"
     ]
    }
   ],
   "source": [
    "from sklearn.tree import DecisionTreeClassifier\n",
    "from sklearn.metrics import accuracy_score\n",
    "from sklearn.metrics import classification_report\n",
    "\n",
    "clf = DecisionTreeClassifier()\n",
    "clf.fit(X, y)\n",
    "y_pred = clf.predict(X)\n",
    "print(\"Accuracy:\", accuracy_score(y, y_pred))\n",
    "print(classification_report(y, y_pred))"
   ]
  },
  {
   "cell_type": "markdown",
   "metadata": {
    "id": "pNEQK4DYXQW6",
    "pycharm": {}
   },
   "source": [
    "De acuerdo a los resultados obtenidos:\n",
    "\n",
    "- ¿Qué opina sobre las predicciones?\n",
    "- ¿Qué problema puede identificar?\n"
   ]
  },
  {
   "cell_type": "markdown",
   "metadata": {
    "id": "JhWup6DvGMJr"
   },
   "source": [
    "**Respuesta:**  \n",
    "Las predicciones son demasiado precisas, ya que se testea con los mismos datos con los que se entrena. Lo más probable es que este sea un caso de overfitting, ya que el modelo se aprende los datos \"de memoria\" y no será capaz de generalizar si recibe datos de otro dataset. \n",
    "\n"
   ]
  },
  {
   "cell_type": "markdown",
   "metadata": {
    "id": "ZfTp-Sn3XADF"
   },
   "source": [
    "### Pregunta 5.1\n"
   ]
  },
  {
   "cell_type": "markdown",
   "metadata": {
    "id": "Z4uSWz6fXADG"
   },
   "source": [
    "Ahora lo que haremos será dividir nuestro dataset en 70% entrenar (**_training set_**) y 30% para testear (**_testing set_**). Use la función **_train_test_split()_** de _sklearn_ y utilice las variables `X_train, X_test, y_train, y_test`.\n"
   ]
  },
  {
   "cell_type": "markdown",
   "metadata": {
    "id": "K2O9O-2HXADG"
   },
   "source": [
    "Escriba el código necesario para dividir los datos, entrenar el modelo e indicar el **accuracy**, **precision** y **recall** del clasificador.\n",
    "\n",
    "Entrene usando el **_training set_** y pruebe sobre el **_testing set_**, en base a la división 70%-30%, respectivamente\n",
    "\n",
    "**NOTA: para dividir el dataset use el parámetro `stratify=y`.**\n"
   ]
  },
  {
   "cell_type": "code",
   "execution_count": 64,
   "metadata": {
    "ExecuteTime": {
     "end_time": "2020-09-28T01:11:33.683493Z",
     "start_time": "2020-09-28T01:11:33.667451Z"
    },
    "id": "cYvg3e6nXQW9",
    "pycharm": {}
   },
   "outputs": [
    {
     "name": "stdout",
     "output_type": "stream",
     "text": [
      "Accuracy: 0.7985074626865671\n",
      "                precision    recall  f1-score   support\n",
      "\n",
      "      Alianzas       0.86      0.84      0.85        82\n",
      "    Innovacion       0.77      0.77      0.77        64\n",
      " Macroeconomia       0.82      0.88      0.85       112\n",
      "          Otra       0.79      0.60      0.68        43\n",
      "  Regulaciones       0.78      0.81      0.79        47\n",
      "    Reputacion       0.89      0.89      0.89         9\n",
      "Sostenibilidad       0.70      0.71      0.70        45\n",
      "\n",
      "      accuracy                           0.80       402\n",
      "     macro avg       0.80      0.79      0.79       402\n",
      "  weighted avg       0.80      0.80      0.80       402\n",
      "\n"
     ]
    }
   ],
   "source": [
    "from sklearn.model_selection import train_test_split\n",
    "\n",
    "X_train, X_test, y_train, y_test = train_test_split(X, y, test_size=.33, random_state=37,\n",
    "                                                    stratify=y)\n",
    "\n",
    "clf = DecisionTreeClassifier(random_state=2)\n",
    "clf.fit(X_train, y_train)    \n",
    "\n",
    "y_pred = clf.predict(X_test)  \n",
    "\n",
    "print(\"Accuracy:\", accuracy_score(y_test, y_pred))\n",
    "print(classification_report(y_test, y_pred))\n",
    "\n"
   ]
  },
  {
   "cell_type": "markdown",
   "metadata": {
    "id": "ynsWofRRXADJ"
   },
   "source": [
    "### Pregunta 5.2.\n",
    "\n",
    "Según el resultado obtenido en la pregunta anterior, responda lo siguiente:\n",
    "\n",
    "1. ¿Cuál clasificador tiene peores resultados? ¿Por qué?\n",
    "2. ¿Cuál de las dos formas de entrenar el clasificador prefiere? Justifique su respuesta\n"
   ]
  },
  {
   "cell_type": "markdown",
   "metadata": {
    "id": "kYOSz94yHwSF"
   },
   "source": [
    "**Respuesta:**  \n",
    "La segunda clasificación tiene peores resultados, donde dejamos una parte del dataset aparte para testear, ya que no se testeó sobre los mismos datos que se entrenó, por lo que el modelo es forzado a generalizar.  \n",
    "\n",
    "Se prefiere la segunda, ya que así se tiene una mejor idea de que tan bien es capaz de generalizar el modelo."
   ]
  },
  {
   "cell_type": "markdown",
   "metadata": {
    "id": "tL6TPIutXQXD",
    "pycharm": {}
   },
   "source": [
    "### Pregunta 6\n",
    "\n",
    "El siguiente código genera una matriz de confusión de los resultados de clasificación de la pregunta anterior. Ejecute el bloque completo para visualizar el gráfico. Interprete la matriz y comente sobre cada uno de los valores distintos de 0 en la matriz y describa lo que representa.\n",
    "\n",
    "_Verifique que los resultados que se imprimen concuerden con su respuesta (por el factor aleatorio del estimador). Nota: Para obtener un comportamiento determinista existe el parámetro **random_state**, por ejemplo: clf = DecisionTreeClassifier(random_state=2)._\n"
   ]
  },
  {
   "cell_type": "code",
   "execution_count": 65,
   "metadata": {
    "id": "_inbTdXl55-0"
   },
   "outputs": [
    {
     "data": {
      "image/png": "[encoded data removed]",
      "text/plain": [
       "<Figure size 640x480 with 2 Axes>"
      ]
     },
     "metadata": {},
     "output_type": "display_data"
    }
   ],
   "source": [
    "# EJECUTAR ESTE BLOQUE\n",
    "import seaborn as sns\n",
    "import matplotlib.pyplot as plt\n",
    "\n",
    "from sklearn.metrics import confusion_matrix\n",
    "from sklearn.utils.multiclass import unique_labels\n",
    "\n",
    "# Compute confusion matrix. By default is not normalized (normalize=None)\n",
    "# If necessary change 'y_pred' according to your variable name\n",
    "cm = confusion_matrix(y_test, y_pred)\n",
    "\n",
    "# Only use the labels that appear in the data\n",
    "classes = unique_labels(y_test, y_pred)\n",
    "\n",
    "df = pd.DataFrame(cm, index=classes, columns=classes)\n",
    "\n",
    "g = sns.heatmap(df, annot=True, cmap=\"Blues\")\n",
    "g.set_yticklabels(g.get_yticklabels(), rotation=0)\n",
    "\n",
    "plt.title('Confusion matrix \\n')\n",
    "plt.xlabel('Predicted label')\n",
    "plt.ylabel('True label')\n",
    "\n",
    "plt.autoscale()\n"
   ]
  },
  {
   "cell_type": "markdown",
   "metadata": {
    "id": "EioZq9ZEXQXG",
    "pycharm": {}
   },
   "source": [
    "**Respuesta:**  \n",
    "  \n",
    "Las columnas son las predicciones y las filas las respuestas correctas. Por ejemplo: el modelo predijo 7 veces Innovación cuando lo verdadero era Sostenibilidad, y 5 veces macroeconomía cuando era Alianza. Esto significa que la diagonal son las predicciones corrctas. Se puede apreciar como el modelo, si bien no perfecto, acierta bastante a la clasificación.\n"
   ]
  },
  {
   "cell_type": "markdown",
   "metadata": {
    "id": "8nnZ5QTPXADM"
   },
   "source": [
    "### Pregunta 7"
   ]
  },
  {
   "cell_type": "markdown",
   "metadata": {
    "id": "XmZSQQSJXADN"
   },
   "source": [
    "Para este clasificador utilizaremos Cross-validation. Con cross-validation, el conjunto de entrenamiento se divide en $k$ conjuntos disjuntos; se entrena sobre los datos correspondientes a $k-1$ de éstos, y se evalúa sobre el conjunto restante. Esto se repite $k$ veces, evaluando siempre sobre un conjunto distinto. Teniendo en cuenta el parámetro $k$, a éste método se le llama $k$-fold cross-validation.\n",
    "\n",
    "El código que está a continuación realizará 10-fold cross-validation usando Decision Tree sobre los datos. La forma de estimar el rendimiento del clasificador es, entre otras cosas, calculando el promedio de todos los k-folds.\n",
    "\n",
    "Además se muestra la predición sobre los datos para testear.\n"
   ]
  },
  {
   "cell_type": "code",
   "execution_count": null,
   "metadata": {
    "ExecuteTime": {
     "end_time": "2020-09-28T01:11:34.015989Z",
     "start_time": "2020-09-28T01:11:33.939789Z"
    },
    "id": "gJyyPpzxXQXI",
    "pycharm": {}
   },
   "outputs": [],
   "source": [
    "# EJECUTAR ESTE BLOQUE\n",
    "\n",
    "from sklearn.model_selection import cross_validate\n",
    "import numpy as np\n",
    "\n",
    "scoring = ['precision_macro', 'recall_macro', 'accuracy', 'f1_macro']\n",
    "cv_results = cross_validate(\n",
    "    clf, X, y, cv=10, scoring=scoring, return_train_score=True)\n",
    "\n",
    "print('Promedio Precision:', np.mean(cv_results['test_precision_macro']))\n",
    "print('Promedio Recall:', np.mean(cv_results['test_recall_macro']))\n",
    "print('Promedio F1-score:', np.mean(cv_results['test_f1_macro']))\n",
    "print('Promedio Accucary:', np.mean(cv_results['test_accuracy']))\n",
    "\n",
    "# Si quisieramos mostrar el resultado de cada k-fold, deberiamos quitar la\n",
    "# funcion np.mean la cual retorna el promedio. Esto mostraría una lista con el resultado de cada fold\n"
   ]
  },
  {
   "cell_type": "markdown",
   "metadata": {
    "id": "U6_ceSH0XQXK",
    "pycharm": {}
   },
   "source": [
    "- Compare los valores de las métricas con respecto a lo obtenido en la pregunta 5. Comente en qué difieren y por qué.\n",
    "- ¿Qué beneficios tiene emplear cross-validation?\n",
    "\n"
   ]
  },
  {
   "cell_type": "markdown",
   "metadata": {
    "id": "HUxJzb3HH40p"
   },
   "source": [
    "**Respuesta:**\n"
   ]
  }
 ],
 "metadata": {
  "anaconda-cloud": {},
  "colab": {
   "collapsed_sections": [],
   "provenance": []
  },
  "hide_input": false,
  "kernelspec": {
   "display_name": "Python 3 (ipykernel)",
   "language": "python",
   "name": "python3"
  },
  "language_info": {
   "codemirror_mode": {
    "name": "ipython",
    "version": 3
   },
   "file_extension": ".py",
   "mimetype": "text/x-python",
   "name": "python",
   "nbconvert_exporter": "python",
   "pygments_lexer": "ipython3",
   "version": "3.9.16"
  },
  "toc": {
   "base_numbering": 1,
   "nav_menu": {},
   "number_sections": true,
   "sideBar": true,
   "skip_h1_title": false,
   "title_cell": "Table of Contents",
   "title_sidebar": "Contents",
   "toc_cell": false,
   "toc_position": {},
   "toc_section_display": true,
   "toc_window_display": false
  },
  "varInspector": {
   "cols": {
    "lenName": 16,
    "lenType": 16,
    "lenVar": 40
   },
   "kernels_config": {
    "python": {
     "delete_cmd_postfix": "",
     "delete_cmd_prefix": "del ",
     "library": "var_list.py",
     "varRefreshCmd": "print(var_dic_list())"
    },
    "r": {
     "delete_cmd_postfix": ") ",
     "delete_cmd_prefix": "rm(",
     "library": "var_list.r",
     "varRefreshCmd": "cat(var_dic_list()) "
    }
   },
   "types_to_exclude": [
    "module",
    "function",
    "builtin_function_or_method",
    "instance",
    "_Feature"
   ],
   "window_display": false
  },
  "vscode": {
   "interpreter": {
    "hash": "456879ad4d789d0bb50a3af188487c3c209cc355cb3a8f3432393e5e9fc6bb79"
   }
  }
 },
 "nbformat": 4,
 "nbformat_minor": 1
}
